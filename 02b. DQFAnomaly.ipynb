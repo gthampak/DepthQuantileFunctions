{
 "cells": [
  {
   "cell_type": "markdown",
   "metadata": {},
   "source": [
    "# Reproducing DQF Anomaly (Chandler, 2022) in Python\n",
    "Chandler's Original Code is in R. Can be viewed at https://github.com/GabeChandler/AnomalyDetection"
   ]
  },
  {
   "cell_type": "code",
   "execution_count": 1,
   "metadata": {},
   "outputs": [],
   "source": [
    "import statistics\n",
    "import numpy as np\n",
    "import random\n",
    "import scipy.stats as sps\n",
    "import math\n",
    "import tqdm"
   ]
  },
  {
   "cell_type": "markdown",
   "metadata": {},
   "source": [
    "## Functions"
   ]
  },
  {
   "cell_type": "markdown",
   "metadata": {},
   "source": [
    "### `sd_w()`\n",
    "\n",
    "`sd_w()` computes the winsorized standard deviation, called by `dqf_outlier()`. Winsorizing or winsorization is the transformation of statistics by limiting extreme values in the statistical data to reduce the effect of possibly spurious outliers. The standard deviations can be heavily influenced by extreme values. Winsorized standard deviation compensates for this by setting the extreme outliers equal to a certain percentile value."
   ]
  },
  {
   "cell_type": "code",
   "execution_count": 2,
   "metadata": {},
   "outputs": [],
   "source": [
    "def sd_w(x, k):\n",
    "    \"\"\" computes the windsorized standard deviation, called by dqf_outlier\n",
    "    Input:\n",
    "        x: list of numeric data values\n",
    "        k: number of observations at each extreme to alter\n",
    "    Returns:\n",
    "        windsorized standard deviation\n",
    "    \"\"\"\n",
    "    k = int(k)\n",
    "    if k == 0: return np.std(x)\n",
    "    else: \n",
    "        x.sort()\n",
    "        l1 = [x[k]]*k\n",
    "        l2 = [x[-k-1]]*k\n",
    "        l3 = x[k:-k]\n",
    "        return np.std(np.concatenate((([x[k]]*k),([x[-k-1]]*k),x[k:-k])))\n"
   ]
  },
  {
   "cell_type": "markdown",
   "metadata": {},
   "source": [
    "`sd_w()` test"
   ]
  },
  {
   "cell_type": "code",
   "execution_count": 3,
   "metadata": {},
   "outputs": [],
   "source": [
    "data = np.array([1,0,0,2,1,1,1,1,1,1,1,2])\n",
    "\n",
    "assert sd_w(data,0) == np.std(data)\n",
    "assert sd_w(data,2) == 0"
   ]
  },
  {
   "cell_type": "markdown",
   "metadata": {},
   "source": [
    "### `subsamp_dqf()`\n",
    "\n",
    "`subsamp_dqf()` is called by dqf.outlier; It computes random subset of pairs of points."
   ]
  },
  {
   "cell_type": "code",
   "execution_count": 4,
   "metadata": {},
   "outputs": [],
   "source": [
    "def subsamp_dqf(n_obs, subsample):\n",
    "    pairs = []\n",
    "    subsample = int(subsample/2)*2\n",
    "    for i in range(1,n_obs+1):\n",
    "        for j in range(i+1,i+int(subsample/2)+1):\n",
    "            pairs.append((i-1,j*(j<=n_obs)+(j-n_obs)*(j>n_obs)-1))\n",
    "\n",
    "    return pairs"
   ]
  },
  {
   "cell_type": "markdown",
   "metadata": {},
   "source": [
    "`subsamp_dqf()` test"
   ]
  },
  {
   "cell_type": "code",
   "execution_count": 5,
   "metadata": {},
   "outputs": [
    {
     "data": {
      "text/plain": [
       "[(0, 1), (1, 2), (2, 3), (3, 4), (4, 5), (5, 6), (6, 7), (7, 0)]"
      ]
     },
     "execution_count": 5,
     "metadata": {},
     "output_type": "execute_result"
    }
   ],
   "source": [
    "subsamp_dqf(8,3)"
   ]
  },
  {
   "cell_type": "markdown",
   "metadata": {},
   "source": [
    "### `dqf_outlier()`\n",
    "\n",
    "computes kernelized version of depthity."
   ]
  },
  {
   "cell_type": "code",
   "execution_count": 6,
   "metadata": {},
   "outputs": [],
   "source": [
    "def dqf_outlier(data = None,\n",
    "                gram_mat = None, \n",
    "                g_scale=2, \n",
    "                angle=[30,45,60],\n",
    "                kernel=\"linear\",\n",
    "                p1=1,p2=0,\n",
    "                n_splits=100,\n",
    "                subsample=50,\n",
    "                z_scale=True,\n",
    "                k_w=3,\n",
    "                adaptive=True,\n",
    "                G=\"norm\"):\n",
    "    if G == \"norm\": param1=0;param2=1\n",
    "    if G == \"unif\": param1=-1;param2=1\n",
    "    if not data and not gram_mat: raise Exception(\"Either a dataset or Gram matrix must be provided\")\n",
    "    if min(angle) <= 0 or max(angle) >= 90: raise Exception(\"Angles must be between 0 and 90\")\n",
    "    if not data: n_obs = len(gram_mat)\n",
    "    if not gram_mat: n_obs = len(data); data = np.array(data)\n",
    "\n",
    "    # shuffle data points\n",
    "    scram = np.arange(0,n_obs, 1)\n",
    "    random.shuffle(scram)\n",
    "    #   create unscram order array\n",
    "    unscram = np.zeros(len(scram)).astype(int)\n",
    "    for i in range(len(unscram)):\n",
    "        index = scram[i]\n",
    "        unscram[index] = int(i)\n",
    "\n",
    "    # subsample pairs of points in dataset\n",
    "    pairs = subsamp_dqf(n_obs, subsample)\n",
    "\n",
    "    # if gram matrix is not provided as parameter\n",
    "    if not gram_mat:\n",
    "        if z_scale:\n",
    "            data = sps.zscore(data) # compute the z score of each value in each column of matrix, relative to the sample mean and standard deviation.\n",
    "        if hasattr(kernel, '__call__'):\n",
    "            kern = kernel\n",
    "        if kernel == \"linear\":\n",
    "            def kern(x,y):\n",
    "                return sum(x*y)\n",
    "        if kernel == \"rbf\":\n",
    "            def kern(x,y):\n",
    "                return math.exp(-sum((x-y)**2)/p1)\n",
    "        if kernel == \"poly\":\n",
    "            def kern(x,y):\n",
    "                return (sum(x*y)+p2)**p1\n",
    "        data = data[scram,]\n",
    "        gram = np.zeros((n_obs,n_obs))\n",
    "        for i in range(n_obs):\n",
    "            for j in range(i,n_obs):\n",
    "                gram[i][j] = kern(data[i,],data[j,])\n",
    "                gram[j][i] = gram[i][j]\n",
    "    else: # check properties of gram matrix\n",
    "        gram_mat = np.array(gram_mat) # convert to np.array\n",
    "        if gram_mat.shape[0] != gram_mat.shape[1]:\n",
    "            raise Exception(\"Gram matrix must be square\")\n",
    "        if np.allclose(gram_mat, gram_mat.T):\n",
    "            raise Exception(\"Gram matrix must be symmetric\")\n",
    "        gram = gram_mat.copy()\n",
    "        gram = gram[scram,] # align gram_mat rows to data\n",
    "        gram = gram[:,scram] # align gram_mat cols to data\n",
    "\n",
    "    # returns (g_scale'd) z_scores; calls sps.(G).ppf()\n",
    "    splits = getattr(sps, G).ppf(np.array(range(1,n_splits+1))/(n_splits+1),param1,param2)*g_scale\n",
    "    depthity1 = np.array([0]*len(splits)); depthity2 = depthity1.copy(); depthity3 = depthity1.copy()\n",
    "    norm_k2 = np.array([0 for i in range(n_obs)]); error_k = np.array([0 for i in range(n_obs)]); k_to_mid = np.array([0 for i in range(n_obs)])\n",
    "\n",
    "    dep1 = np.zeros((len(pairs),n_splits)); dep2 = dep1.copy(); dep3 = dep1.copy()\n",
    "    qfs1 = np.zeros((len(pairs),100)); qfs2 = qfs1.copy(); qfs3 = qfs1.copy()\n",
    "\n",
    "    for i_sub in tqdm.trange(len(pairs)):\n",
    "        i = pairs[i_sub][0]; j = pairs[i_sub][1]\n",
    "        for k in range(n_obs):\n",
    "            norm_k2[k] = gram[k][k] +.25*(gram[i][i]+gram[j][j]) + .5*gram[i][j] - gram[k][i] - gram[k][j]\n",
    "            k_to_mid[k] = (gram[k][i]-gram[k][j] + .5*(gram[j][j]-gram[i][i]))/math.sqrt(gram[i][i]+gram[j][j]-2*gram[i][j])\n",
    "            error_k[k] = math.sqrt(abs(norm_k2[k] - k_to_mid[k]**2))\n",
    "        for c in range(len(splits)):\n",
    "            s = splits[c]*(sd_w(k_to_mid,k_w)*adaptive + (not adaptive))\n",
    "            good = np.array([0 if k_to_mid[i]/s > 1 else 0 for i in range(len(k_to_mid))]) # points on other side of cone tip removed\n",
    "            d_to_tip = abs(k_to_mid - s)\n",
    "\n",
    "            good1 = good*(abs(np.vectorize(math.atan)(error_k/k_to_mid)) < (angle[0]/360*2*math.pi))\n",
    "            good1 = good1*(1-(2*np.sign(k_to_mid)==np.sign(s)))\n",
    "            depthity1[c] = min(sum([g1==-1 for g1 in good1]),sum([g1==1 for g1 in good1]))\n",
    "            # same code for depthity2 and depthity3\n",
    "        \n",
    "        qfs1[i_sub,] = np.quantile([d for d in depthity1 if not np.isnan(d)], np.linspace(.01,1,100))\n",
    "    \n",
    "    dqf1 = np.zeros((n_obs, 100))\n",
    "    for i in range(n_obs):\n",
    "        dqf1[i] = np.mean(qfs1[np.concatenate((np.where([pair[0] for pair in pairs] == i), np.where([pair[1] for pair in pairs] == i)))])\n",
    "    dqf1 = dqf1[unscram,]\n",
    "\n",
    "\n",
    "    return dqf1"
   ]
  },
  {
   "cell_type": "code",
   "execution_count": 7,
   "metadata": {},
   "outputs": [],
   "source": [
    "import matplotlib.pyplot as plt"
   ]
  },
  {
   "cell_type": "code",
   "execution_count": 21,
   "metadata": {},
   "outputs": [
    {
     "ename": "TypeError",
     "evalue": "list indices must be integers or slices, not tuple",
     "output_type": "error",
     "traceback": [
      "\u001b[1;31m---------------------------------------------------------------------------\u001b[0m",
      "\u001b[1;31mTypeError\u001b[0m                                 Traceback (most recent call last)",
      "\u001b[1;32mc:\\Users\\gtham\\OneDrive - Pomona College\\2022 Fall\\MATH190\\Code\\DQFAnomaly.ipynb Cell 15\u001b[0m in \u001b[0;36m<cell line: 8>\u001b[1;34m()\u001b[0m\n\u001b[0;32m      <a href='vscode-notebook-cell:/c%3A/Users/gtham/OneDrive%20-%20Pomona%20College/2022%20Fall/MATH190/Code/DQFAnomaly.ipynb#X16sZmlsZQ%3D%3D?line=4'>5</a>\u001b[0m     df\u001b[39m.\u001b[39mappend([x[i],y[i]])\n\u001b[0;32m      <a href='vscode-notebook-cell:/c%3A/Users/gtham/OneDrive%20-%20Pomona%20College/2022%20Fall/MATH190/Code/DQFAnomaly.ipynb#X16sZmlsZQ%3D%3D?line=5'>6</a>\u001b[0m df\u001b[39m.\u001b[39mappend([\u001b[39m0\u001b[39m,\u001b[39m2\u001b[39m])\n\u001b[1;32m----> <a href='vscode-notebook-cell:/c%3A/Users/gtham/OneDrive%20-%20Pomona%20College/2022%20Fall/MATH190/Code/DQFAnomaly.ipynb#X16sZmlsZQ%3D%3D?line=7'>8</a>\u001b[0m plt\u001b[39m.\u001b[39mscatter(df[:,\u001b[39m0\u001b[39;49m],df[:,\u001b[39m1\u001b[39m])\n",
      "\u001b[1;31mTypeError\u001b[0m: list indices must be integers or slices, not tuple"
     ]
    }
   ],
   "source": [
    "x = np.arange(-2,2,.05)\n",
    "y = x**2\n",
    "df = []\n",
    "for i in range(len(x)):\n",
    "    df.append([x[i],y[i]])\n",
    "df.append([0,2])\n",
    "\n",
    "plt.scatter(df[:,0],df[:,1])"
   ]
  },
  {
   "cell_type": "code",
   "execution_count": null,
   "metadata": {},
   "outputs": [],
   "source": [
    "dqf_outlier(data = df)"
   ]
  },
  {
   "cell_type": "code",
   "execution_count": 11,
   "metadata": {},
   "outputs": [
    {
     "name": "stdout",
     "output_type": "stream",
     "text": [
      "[[ 1.  1.]\n",
      " [-1. -1.]]\n",
      "[[ 1.  1.]\n",
      " [-1. -1.]]\n",
      "[[ 1. -1.]\n",
      " [ 1. -1.]]\n"
     ]
    }
   ],
   "source": [
    "test = np.array([[2,1],[1,0]])\n",
    "print(sps.zscore(test,axis=0))\n",
    "print(sps.zscore(test))\n",
    "print(sps.zscore(test,axis=1))"
   ]
  },
  {
   "cell_type": "code",
   "execution_count": null,
   "metadata": {},
   "outputs": [],
   "source": [
    "list = np.array([-3,3,-6,-8,5])\n",
    "\n",
    "l1 = np.array([2,4,6])\n",
    "l2 = np.array([2,2,6])\n",
    "l1/l2\n",
    "\n",
    "np.sign(list)\n",
    "np.sign(-4)\n",
    "\n",
    "good1 = [-2,-2,2,2,-1,-1]\n",
    "sum([g1==-1 for g1 in good1])\n",
    "\n",
    "np.linspace(.01,1,100)\n",
    "\n",
    "pairs = np.array([(1,2),(2,1),(4,7),(7,4),(1,6)])\n",
    "pairs[[1,3]]\n",
    "\n",
    "mat = np.array([[0,0],[1,0],[2,0],[3,0],[4,0],[5,0]])\n",
    "scram = np.arange(0,5,1)\n",
    "random.shuffle(scram)\n",
    "unscram = np.zeros(len(scram)).astype(int)\n",
    "for i in range(len(unscram)):\n",
    "    index = scram[i]\n",
    "    unscram[index] = int(i)\n",
    "mat = mat[scram,]\n",
    "print(type(unscram[0]))\n",
    "print(mat)\n",
    "print(mat[unscram,])"
   ]
  },
  {
   "cell_type": "code",
   "execution_count": null,
   "metadata": {},
   "outputs": [],
   "source": [
    "G = \"norm\"\n",
    "print(getattr(sps, G).ppf(np.array(range(1,100+1))/(100+1),0,1))\n",
    "G = \"uniform\"\n",
    "getattr(sps, G).ppf(np.array(range(1,100+1))/(100+1),0,1)"
   ]
  }
 ],
 "metadata": {
  "kernelspec": {
   "display_name": "Python 3.9.12 ('base')",
   "language": "python",
   "name": "python3"
  },
  "language_info": {
   "codemirror_mode": {
    "name": "ipython",
    "version": 3
   },
   "file_extension": ".py",
   "mimetype": "text/x-python",
   "name": "python",
   "nbconvert_exporter": "python",
   "pygments_lexer": "ipython3",
   "version": "3.9.12"
  },
  "orig_nbformat": 4,
  "vscode": {
   "interpreter": {
    "hash": "eafbb80cbd38204c95b11125018c1714a199249c7cfb32d07618e185eac4f66f"
   }
  }
 },
 "nbformat": 4,
 "nbformat_minor": 2
}
