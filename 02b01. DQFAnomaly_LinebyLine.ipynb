{
 "cells": [
  {
   "cell_type": "code",
   "execution_count": 86,
   "metadata": {},
   "outputs": [],
   "source": [
    "import statistics\n",
    "import numpy as np\n",
    "import random\n",
    "import scipy.stats as sps\n",
    "import math\n",
    "import tqdm"
   ]
  },
  {
   "cell_type": "code",
   "execution_count": 87,
   "metadata": {},
   "outputs": [],
   "source": [
    "def sd_w(x, k):\n",
    "    \"\"\" computes the windsorized standard deviation, called by dqf_outlier\n",
    "    Input:\n",
    "        x: list of numeric data values\n",
    "        k: number of observations at each extreme to alter\n",
    "    Returns:\n",
    "        windsorized standard deviation\n",
    "    \"\"\"\n",
    "    k = int(k)\n",
    "    if k == 0: return np.std(x)\n",
    "    else: \n",
    "        x.sort()\n",
    "        l1 = [x[k]]*k\n",
    "        l2 = [x[-k-1]]*k\n",
    "        l3 = x[k:-k]\n",
    "        return np.std(np.concatenate((([x[k]]*k),([x[-k-1]]*k),x[k:-k])))\n"
   ]
  },
  {
   "cell_type": "code",
   "execution_count": 88,
   "metadata": {},
   "outputs": [],
   "source": [
    "def subsamp_dqf(n_obs, subsample):\n",
    "    pairs = []\n",
    "    subsample = int(subsample/2)*2\n",
    "    for i in range(1,n_obs+1):\n",
    "        for j in range(i+1,i+int(subsample/2)+1):\n",
    "            pairs.append((i-1,j*(j<=n_obs)+(j-n_obs)*(j>n_obs)-1))\n",
    "\n",
    "    return pairs"
   ]
  },
  {
   "cell_type": "code",
   "execution_count": 89,
   "metadata": {},
   "outputs": [
    {
     "name": "stderr",
     "output_type": "stream",
     "text": [
      "C:\\Users\\gtham\\AppData\\Local\\Temp\\ipykernel_16088\\752669558.py:8: DeprecationWarning: `np.float` is a deprecated alias for the builtin `float`. To silence this warning, use `float` by itself. Doing this will not modify any behavior and is safe. If you specifically wanted the numpy scalar type, use `np.float64` here.\n",
      "Deprecated in NumPy 1.20; for more details and guidance: https://numpy.org/devdocs/release/1.20.0-notes.html#deprecations\n",
      "  data = data.astype(np.float)\n"
     ]
    }
   ],
   "source": [
    "import csv\n",
    "\n",
    "with open('2Dtestdata.csv', newline='') as f:\n",
    "    reader = csv.reader(f)\n",
    "    data = list(reader)\n",
    "\n",
    "data = np.array(data)\n",
    "data = data.astype(np.float)"
   ]
  },
  {
   "cell_type": "code",
   "execution_count": null,
   "metadata": {},
   "outputs": [],
   "source": []
  },
  {
   "cell_type": "code",
   "execution_count": 90,
   "metadata": {},
   "outputs": [
    {
     "data": {
      "text/plain": [
       "<matplotlib.collections.PathCollection at 0x1a3fc5e56a0>"
      ]
     },
     "execution_count": 90,
     "metadata": {},
     "output_type": "execute_result"
    },
    {
     "data": {
      "image/png": "[encoded data removed]",
      "text/plain": [
       "<Figure size 432x288 with 1 Axes>"
      ]
     },
     "metadata": {
      "needs_background": "light"
     },
     "output_type": "display_data"
    }
   ],
   "source": [
    "import matplotlib.pyplot as plt\n",
    "\n",
    "plt.scatter(data[:,0],data[:,1])\n"
   ]
  },
  {
   "cell_type": "code",
   "execution_count": 91,
   "metadata": {},
   "outputs": [],
   "source": [
    "param1=0;param2=1\n",
    "g_scale = 2\n",
    "angle = [45]\n",
    "p1 = 1; p2 = 0\n",
    "n_splits = 100\n",
    "z_scale = True; k_w = 3; adaptive = True"
   ]
  },
  {
   "cell_type": "code",
   "execution_count": 92,
   "metadata": {},
   "outputs": [],
   "source": [
    "# shuffle data points\n",
    "n_obs = len(data)\n",
    "scram = np.arange(0,n_obs, 1)\n",
    "random.shuffle(scram)\n",
    "#   create unscram order array\n",
    "unscram = np.zeros(len(scram)).astype(int)\n",
    "for i in range(len(unscram)):\n",
    "    index = scram[i]\n",
    "    unscram[index] = int(i)\n",
    "\n",
    "pairs = subsamp_dqf(n_obs, subsample=50)"
   ]
  },
  {
   "cell_type": "code",
   "execution_count": 93,
   "metadata": {},
   "outputs": [
    {
     "data": {
      "text/plain": [
       "<matplotlib.collections.PathCollection at 0x1a3fc66bac0>"
      ]
     },
     "execution_count": 93,
     "metadata": {},
     "output_type": "execute_result"
    },
    {
     "data": {
      "image/png": "[encoded data removed]",
      "text/plain": [
       "<Figure size 432x288 with 1 Axes>"
      ]
     },
     "metadata": {
      "needs_background": "light"
     },
     "output_type": "display_data"
    }
   ],
   "source": [
    "data = sps.zscore(data)\n",
    "plt.scatter(data[:,0],data[:,1])"
   ]
  },
  {
   "cell_type": "code",
   "execution_count": 94,
   "metadata": {},
   "outputs": [
    {
     "data": {
      "text/plain": [
       "<matplotlib.collections.PathCollection at 0x1a3fc6d33a0>"
      ]
     },
     "execution_count": 94,
     "metadata": {},
     "output_type": "execute_result"
    },
    {
     "data": {
      "image/png": "[encoded data removed]",
      "text/plain": [
       "<Figure size 432x288 with 1 Axes>"
      ]
     },
     "metadata": {
      "needs_background": "light"
     },
     "output_type": "display_data"
    }
   ],
   "source": [
    "def kern(x,y): return sum(x*y)\n",
    "\n",
    "data = data[scram,]\n",
    "gram = np.zeros((n_obs,n_obs))\n",
    "for i in range(n_obs):\n",
    "    for j in range(i,n_obs):\n",
    "        gram[i][j] = kern(data[i,],data[j,])\n",
    "        gram[j][i] = gram[i][j]\n",
    "\n",
    "plt.scatter(data[:,0],data[:,1])"
   ]
  },
  {
   "cell_type": "code",
   "execution_count": 95,
   "metadata": {},
   "outputs": [
    {
     "data": {
      "text/plain": [
       "<matplotlib.collections.PathCollection at 0x1a3fc72cf10>"
      ]
     },
     "execution_count": 95,
     "metadata": {},
     "output_type": "execute_result"
    },
    {
     "data": {
      "image/png": "[encoded data removed]",
      "text/plain": [
       "<Figure size 432x288 with 1 Axes>"
      ]
     },
     "metadata": {
      "needs_background": "light"
     },
     "output_type": "display_data"
    }
   ],
   "source": [
    "G = \"norm\"\n",
    "splits = getattr(sps, G).ppf(np.array(range(1,n_splits+1))/(n_splits+1),param1,param2)*g_scale\n",
    "\n",
    "plt.scatter(x = range(len(splits)),y=splits)"
   ]
  },
  {
   "cell_type": "code",
   "execution_count": 96,
   "metadata": {},
   "outputs": [
    {
     "name": "stdout",
     "output_type": "stream",
     "text": [
      "1250\n",
      "100\n"
     ]
    }
   ],
   "source": [
    "depthity1 = np.array([0]*len(splits))\n",
    "norm_k2 = np.array([0 for i in range(n_obs)]); error_k = np.array([0 for i in range(n_obs)]); k_to_mid = np.array([0 for i in range(n_obs)])\n",
    "dep1 = np.zeros((len(pairs),n_splits))\n",
    "qfs1 = np.zeros((len(pairs),100))\n",
    "print(len(pairs))\n",
    "print(n_splits)"
   ]
  },
  {
   "cell_type": "code",
   "execution_count": null,
   "metadata": {},
   "outputs": [],
   "source": []
  },
  {
   "cell_type": "code",
   "execution_count": 97,
   "metadata": {},
   "outputs": [
    {
     "name": "stderr",
     "output_type": "stream",
     "text": [
      "  0%|          | 0/1250 [00:00<?, ?it/s]C:\\Users\\gtham\\AppData\\Local\\Temp\\ipykernel_16088\\2633959855.py:12: RuntimeWarning: divide by zero encountered in true_divide\n",
      "  good1 = good*(abs(np.vectorize(math.atan)(error_k/k_to_mid)) < (angle[0]/360*2*math.pi))\n",
      "C:\\Users\\gtham\\AppData\\Local\\Temp\\ipykernel_16088\\2633959855.py:12: RuntimeWarning: invalid value encountered in true_divide\n",
      "  good1 = good*(abs(np.vectorize(math.atan)(error_k/k_to_mid)) < (angle[0]/360*2*math.pi))\n",
      "  1%|          | 13/1250 [00:01<02:45,  7.48it/s]C:\\Users\\gtham\\AppData\\Local\\Temp\\ipykernel_16088\\2633959855.py:9: RuntimeWarning: invalid value encountered in true_divide\n",
      "  good = np.array([0 if k_to_mid[i]/s > 1 else 0 for i in range(len(k_to_mid))]) # points on other side of cone tip removed\n",
      "  6%|▌         | 75/1250 [00:11<02:50,  6.88it/s]C:\\Users\\gtham\\AppData\\Local\\Temp\\ipykernel_16088\\2633959855.py:9: RuntimeWarning: divide by zero encountered in true_divide\n",
      "  good = np.array([0 if k_to_mid[i]/s > 1 else 0 for i in range(len(k_to_mid))]) # points on other side of cone tip removed\n",
      "100%|██████████| 1250/1250 [02:34<00:00,  8.10it/s]\n"
     ]
    }
   ],
   "source": [
    "for i_sub in tqdm.trange(len(pairs)):\n",
    "    i = pairs[i_sub][0]; j = pairs[i_sub][1]\n",
    "    for k in range(n_obs):\n",
    "        norm_k2[k] = gram[k][k] +.25*(gram[i][i]+gram[j][j]) + .5*gram[i][j] - gram[k][i] - gram[k][j]\n",
    "        k_to_mid[k] = (gram[k][i]-gram[k][j] + .5*(gram[j][j]-gram[i][i]))/math.sqrt(gram[i][i]+gram[j][j]-2*gram[i][j])\n",
    "        error_k[k] = math.sqrt(abs(norm_k2[k] - k_to_mid[k]**2))\n",
    "    for c in range(len(splits)):\n",
    "        s = splits[c]*(sd_w(k_to_mid,k_w)*adaptive + (not adaptive))\n",
    "        good = np.array([0 if k_to_mid[i]/s > 1 else 0 for i in range(len(k_to_mid))]) # points on other side of cone tip removed\n",
    "        d_to_tip = abs(k_to_mid - s)\n",
    "\n",
    "        good1 = good*(abs(np.vectorize(math.atan)(error_k/k_to_mid)) < (angle[0]/360*2*math.pi))\n",
    "        good1 = good1*(1-(2*np.sign(k_to_mid)==np.sign(s)))\n",
    "        depthity1[c] = min(sum([g1==-1 for g1 in good1]),sum([g1==1 for g1 in good1]))\n",
    "        # same code for depthity2 and depthity3\n",
    "    \n",
    "    qfs1[i_sub,] = np.quantile([d for d in depthity1 if not np.isnan(d)], np.linspace(.01,1,100))\n",
    "dqf1 = np.zeros((n_obs, 100))\n",
    "for i in range(n_obs):\n",
    "    dqf1[i] = np.mean(qfs1[np.concatenate((np.where([pair[0] for pair in pairs] == i), np.where([pair[1] for pair in pairs] == i)))])\n",
    "dqf1 = dqf1[unscram,]"
   ]
  },
  {
   "cell_type": "code",
   "execution_count": 98,
   "metadata": {},
   "outputs": [
    {
     "data": {
      "text/plain": [
       "array([[nan, nan, nan, ..., nan, nan, nan],\n",
       "       [nan, nan, nan, ..., nan, nan, nan],\n",
       "       [nan, nan, nan, ..., nan, nan, nan],\n",
       "       ...,\n",
       "       [nan, nan, nan, ..., nan, nan, nan],\n",
       "       [nan, nan, nan, ..., nan, nan, nan],\n",
       "       [nan, nan, nan, ..., nan, nan, nan]])"
      ]
     },
     "execution_count": 98,
     "metadata": {},
     "output_type": "execute_result"
    }
   ],
   "source": [
    "dqf1"
   ]
  }
 ],
 "metadata": {
  "kernelspec": {
   "display_name": "Python 3.9.12 ('base')",
   "language": "python",
   "name": "python3"
  },
  "language_info": {
   "codemirror_mode": {
    "name": "ipython",
    "version": 3
   },
   "file_extension": ".py",
   "mimetype": "text/x-python",
   "name": "python",
   "nbconvert_exporter": "python",
   "pygments_lexer": "ipython3",
   "version": "3.9.12"
  },
  "orig_nbformat": 4,
  "vscode": {
   "interpreter": {
    "hash": "eafbb80cbd38204c95b11125018c1714a199249c7cfb32d07618e185eac4f66f"
   }
  }
 },
 "nbformat": 4,
 "nbformat_minor": 2
}
